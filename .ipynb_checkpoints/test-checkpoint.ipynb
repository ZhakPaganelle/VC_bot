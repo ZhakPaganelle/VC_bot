{
 "cells": [
  {
   "cell_type": "code",
   "execution_count": 2,
   "id": "89175c02-3ae1-4d3f-a607-9c3b7e823e1e",
   "metadata": {},
   "outputs": [],
   "source": [
    "import sqlite3 as sl"
   ]
  },
  {
   "cell_type": "code",
   "execution_count": 6,
   "id": "dff6a1b8-460d-416b-b8e0-210df88f35a5",
   "metadata": {},
   "outputs": [],
   "source": [
    "con = sl.connect('bot.db')"
   ]
  },
  {
   "cell_type": "code",
   "execution_count": 7,
   "id": "439d73e0-2c0e-4af3-913f-08634d37fe9f",
   "metadata": {},
   "outputs": [],
   "source": [
    "with con:\n",
    "    con.execute(\"\"\"\n",
    "        CREATE TABLE VCUSERS (\n",
    "            user_id INTEGER NOT NULL PRIMARY KEY AUTOINCREMENT,\n",
    "            score INTEGER,\n",
    "            step INTEGER,\n",
    "            likes INTEGER,\n",
    "            completed TEXT,\n",
    "            delayed TEXT\n",
    "        );\n",
    "    \"\"\")"
   ]
  },
  {
   "cell_type": "code",
   "execution_count": 8,
   "id": "629e1938-9608-4613-a963-d635932a86d4",
   "metadata": {},
   "outputs": [],
   "source": [
    "with con:\n",
    "    con.execute(\"\"\"\n",
    "        CREATE TABLE VCADMINS (\n",
    "            admin_id INTEGER NOT NULL PRIMARY KEY AUTOINCREMENT,\n",
    "            last_checked INTEGER\n",
    "        );\n",
    "    \"\"\")"
   ]
  },
  {
   "cell_type": "code",
   "execution_count": null,
   "id": "11b54371-a28f-4492-b438-a65c7269beba",
   "metadata": {},
   "outputs": [],
   "source": [
    "with con:\n",
    "    con.execute(\"\"\"\n",
    "        INSERT INTO VCUSERS VALUES (\n",
    "            185510152, 0, 0, 0, 0, 0\n",
    "        );\n",
    "    \"\"\")"
   ]
  }
 ],
 "metadata": {
  "kernelspec": {
   "display_name": "Python 3 (ipykernel)",
   "language": "python",
   "name": "python3"
  },
  "language_info": {
   "codemirror_mode": {
    "name": "ipython",
    "version": 3
   },
   "file_extension": ".py",
   "mimetype": "text/x-python",
   "name": "python",
   "nbconvert_exporter": "python",
   "pygments_lexer": "ipython3",
   "version": "3.9.6"
  }
 },
 "nbformat": 4,
 "nbformat_minor": 5
}
